{
 "cells": [
  {
   "cell_type": "code",
   "execution_count": null,
   "metadata": {},
   "outputs": [],
   "source": [
    "!pip3 install pillow"
   ]
  },
  {
   "cell_type": "code",
   "execution_count": null,
   "metadata": {},
   "outputs": [],
   "source": [
    "!pip3 install matplotlib"
   ]
  },
  {
   "cell_type": "code",
   "execution_count": null,
   "metadata": {},
   "outputs": [],
   "source": [
    "!pip3 install tf-nightly"
   ]
  },
  {
   "cell_type": "code",
   "execution_count": null,
   "metadata": {},
   "outputs": [],
   "source": [
    "!pip3 freeze > requirements.txt"
   ]
  },
  {
   "cell_type": "code",
   "execution_count": 1,
   "metadata": {
    "scrolled": true
   },
   "outputs": [],
   "source": [
    "import tensorflow as tf\n",
    "import numpy as np\n",
    "from tensorflow.keras.preprocessing.image import ImageDataGenerator"
   ]
  },
  {
   "cell_type": "code",
   "execution_count": 2,
   "metadata": {},
   "outputs": [
    {
     "name": "stdout",
     "output_type": "stream",
     "text": [
      "2.8.0-dev20211113\n"
     ]
    }
   ],
   "source": [
    "print(tf.__version__)"
   ]
  },
  {
   "cell_type": "code",
   "execution_count": 19,
   "metadata": {},
   "outputs": [
    {
     "name": "stdout",
     "output_type": "stream",
     "text": [
      "Found 3488 images belonging to 5 classes.\n"
     ]
    }
   ],
   "source": [
    "train_datagen = ImageDataGenerator(\n",
    "                rescale = 1./255,\n",
    "                shear_range = 0.2,\n",
    "                zoom_range = 0.2,\n",
    "                horizontal_flip = True)\n",
    "training_set = train_datagen.flow_from_directory(\n",
    "                'training_data',target_size=(64,64),batch_size=32,class_mode='categorical')"
   ]
  },
  {
   "cell_type": "code",
   "execution_count": 20,
   "metadata": {},
   "outputs": [
    {
     "name": "stdout",
     "output_type": "stream",
     "text": [
      "Found 222 images belonging to 5 classes.\n"
     ]
    }
   ],
   "source": [
    "test_datagen = ImageDataGenerator(rescale = 1./255)\n",
    "testing_set = test_datagen.flow_from_directory('testing_data',target_size=(64,64),batch_size=32,class_mode='categorical')"
   ]
  },
  {
   "cell_type": "code",
   "execution_count": 21,
   "metadata": {},
   "outputs": [],
   "source": [
    "cnn = tf.keras.models.Sequential()"
   ]
  },
  {
   "cell_type": "code",
   "execution_count": 22,
   "metadata": {},
   "outputs": [],
   "source": [
    "cnn.add(tf.keras.layers.Conv2D(filters=64,kernel_size=3,activation='relu',input_shape=[64,64,3]))\n",
    "cnn.add(tf.keras.layers.MaxPool2D(pool_size=2,strides=2))"
   ]
  },
  {
   "cell_type": "code",
   "execution_count": 23,
   "metadata": {},
   "outputs": [],
   "source": [
    "cnn.add(tf.keras.layers.Dropout(0.25))"
   ]
  },
  {
   "cell_type": "code",
   "execution_count": 24,
   "metadata": {},
   "outputs": [],
   "source": [
    "cnn.add(tf.keras.layers.Conv2D(filters=64,kernel_size=3,activation='relu'))\n",
    "cnn.add(tf.keras.layers.MaxPool2D(pool_size=2,strides=2))"
   ]
  },
  {
   "cell_type": "code",
   "execution_count": 25,
   "metadata": {},
   "outputs": [],
   "source": [
    "cnn.add(tf.keras.layers.Dropout(0.5))"
   ]
  },
  {
   "cell_type": "code",
   "execution_count": null,
   "metadata": {},
   "outputs": [],
   "source": []
  },
  {
   "cell_type": "code",
   "execution_count": 26,
   "metadata": {},
   "outputs": [],
   "source": [
    "cnn.add(tf.keras.layers.Flatten())"
   ]
  },
  {
   "cell_type": "code",
   "execution_count": 27,
   "metadata": {},
   "outputs": [],
   "source": [
    "cnn.add(tf.keras.layers.Dense(units=128,activation='relu'))"
   ]
  },
  {
   "cell_type": "code",
   "execution_count": 28,
   "metadata": {},
   "outputs": [],
   "source": [
    "cnn.add(tf.keras.layers.Dropout(0.5))"
   ]
  },
  {
   "cell_type": "code",
   "execution_count": 29,
   "metadata": {},
   "outputs": [],
   "source": [
    "cnn.add(tf.keras.layers.Dense(units=64,activation='relu'))"
   ]
  },
  {
   "cell_type": "code",
   "execution_count": 30,
   "metadata": {},
   "outputs": [],
   "source": [
    "cnn.add(tf.keras.layers.Dense(units=5,activation='softmax'))"
   ]
  },
  {
   "cell_type": "code",
   "execution_count": 31,
   "metadata": {},
   "outputs": [],
   "source": [
    "cnn.compile(optimizer='rmsprop',loss='categorical_crossentropy',metrics=['accuracy'])"
   ]
  },
  {
   "cell_type": "code",
   "execution_count": 32,
   "metadata": {},
   "outputs": [
    {
     "name": "stdout",
     "output_type": "stream",
     "text": [
      "Epoch 1/32\n",
      "109/109 [==============================] - 23s 207ms/step - loss: 1.3966 - accuracy: 0.3804 - val_loss: 1.1327 - val_accuracy: 0.5405\n",
      "Epoch 2/32\n",
      "109/109 [==============================] - 23s 212ms/step - loss: 1.2024 - accuracy: 0.4903 - val_loss: 1.1114 - val_accuracy: 0.5541\n",
      "Epoch 3/32\n",
      "109/109 [==============================] - 21s 195ms/step - loss: 1.1201 - accuracy: 0.5358 - val_loss: 0.9398 - val_accuracy: 0.6622\n",
      "Epoch 4/32\n",
      "109/109 [==============================] - 21s 195ms/step - loss: 1.0313 - accuracy: 0.5958 - val_loss: 0.9183 - val_accuracy: 0.6306\n",
      "Epoch 5/32\n",
      "109/109 [==============================] - 22s 198ms/step - loss: 0.9875 - accuracy: 0.6095 - val_loss: 0.8984 - val_accuracy: 0.6757\n",
      "Epoch 6/32\n",
      "109/109 [==============================] - 22s 200ms/step - loss: 0.9413 - accuracy: 0.6273 - val_loss: 0.9595 - val_accuracy: 0.6532\n",
      "Epoch 7/32\n",
      "109/109 [==============================] - 21s 193ms/step - loss: 0.8750 - accuracy: 0.6568 - val_loss: 1.1251 - val_accuracy: 0.5766\n",
      "Epoch 8/32\n",
      "109/109 [==============================] - 22s 203ms/step - loss: 0.8658 - accuracy: 0.6674 - val_loss: 0.7809 - val_accuracy: 0.7342\n",
      "Epoch 9/32\n",
      "109/109 [==============================] - 22s 199ms/step - loss: 0.8211 - accuracy: 0.6904 - val_loss: 0.7623 - val_accuracy: 0.7117\n",
      "Epoch 10/32\n",
      "109/109 [==============================] - 22s 198ms/step - loss: 0.8352 - accuracy: 0.6912 - val_loss: 0.8392 - val_accuracy: 0.7072\n",
      "Epoch 11/32\n",
      "109/109 [==============================] - 22s 199ms/step - loss: 0.7824 - accuracy: 0.7058 - val_loss: 0.7487 - val_accuracy: 0.7252\n",
      "Epoch 12/32\n",
      "109/109 [==============================] - 22s 204ms/step - loss: 0.7711 - accuracy: 0.7162 - val_loss: 0.7699 - val_accuracy: 0.7432\n",
      "Epoch 13/32\n",
      "109/109 [==============================] - 22s 197ms/step - loss: 0.7644 - accuracy: 0.7170 - val_loss: 0.7434 - val_accuracy: 0.7342\n",
      "Epoch 14/32\n",
      "109/109 [==============================] - 21s 196ms/step - loss: 0.7317 - accuracy: 0.7239 - val_loss: 0.8042 - val_accuracy: 0.7162\n",
      "Epoch 15/32\n",
      "109/109 [==============================] - 21s 194ms/step - loss: 0.7381 - accuracy: 0.7222 - val_loss: 0.7247 - val_accuracy: 0.7207\n",
      "Epoch 16/32\n",
      "109/109 [==============================] - 21s 188ms/step - loss: 0.7007 - accuracy: 0.7291 - val_loss: 0.7499 - val_accuracy: 0.7342\n",
      "Epoch 17/32\n",
      "109/109 [==============================] - 21s 192ms/step - loss: 0.7284 - accuracy: 0.7308 - val_loss: 0.7890 - val_accuracy: 0.6937\n",
      "Epoch 18/32\n",
      "109/109 [==============================] - 22s 199ms/step - loss: 0.7072 - accuracy: 0.7354 - val_loss: 0.7942 - val_accuracy: 0.7387\n",
      "Epoch 19/32\n",
      "109/109 [==============================] - 21s 189ms/step - loss: 0.7218 - accuracy: 0.7368 - val_loss: 0.7235 - val_accuracy: 0.7297\n",
      "Epoch 20/32\n",
      "109/109 [==============================] - 21s 190ms/step - loss: 0.6882 - accuracy: 0.7517 - val_loss: 0.7332 - val_accuracy: 0.7207\n",
      "Epoch 21/32\n",
      "109/109 [==============================] - 20s 187ms/step - loss: 0.6900 - accuracy: 0.7480 - val_loss: 0.7885 - val_accuracy: 0.7252\n",
      "Epoch 22/32\n",
      "109/109 [==============================] - 21s 188ms/step - loss: 0.6835 - accuracy: 0.7514 - val_loss: 0.7820 - val_accuracy: 0.7027\n",
      "Epoch 23/32\n",
      "109/109 [==============================] - 21s 190ms/step - loss: 0.6594 - accuracy: 0.7655 - val_loss: 0.8178 - val_accuracy: 0.7117\n",
      "Epoch 24/32\n",
      "109/109 [==============================] - 20s 187ms/step - loss: 0.6576 - accuracy: 0.7583 - val_loss: 0.8611 - val_accuracy: 0.7117\n",
      "Epoch 25/32\n",
      "109/109 [==============================] - 21s 190ms/step - loss: 0.6638 - accuracy: 0.7529 - val_loss: 0.7458 - val_accuracy: 0.7523\n",
      "Epoch 26/32\n",
      "109/109 [==============================] - 20s 186ms/step - loss: 0.6617 - accuracy: 0.7511 - val_loss: 0.7289 - val_accuracy: 0.7252\n",
      "Epoch 27/32\n",
      "109/109 [==============================] - 21s 193ms/step - loss: 0.6441 - accuracy: 0.7589 - val_loss: 0.7868 - val_accuracy: 0.7072\n",
      "Epoch 28/32\n",
      "109/109 [==============================] - 23s 211ms/step - loss: 0.6489 - accuracy: 0.7712 - val_loss: 0.7277 - val_accuracy: 0.7297\n",
      "Epoch 29/32\n",
      "109/109 [==============================] - 23s 212ms/step - loss: 0.6341 - accuracy: 0.7749 - val_loss: 0.7981 - val_accuracy: 0.7117\n",
      "Epoch 30/32\n",
      "109/109 [==============================] - 21s 196ms/step - loss: 0.6476 - accuracy: 0.7681 - val_loss: 0.7448 - val_accuracy: 0.7477\n",
      "Epoch 31/32\n",
      "109/109 [==============================] - 22s 201ms/step - loss: 0.6312 - accuracy: 0.7735 - val_loss: 0.7247 - val_accuracy: 0.7342\n",
      "Epoch 32/32\n",
      "109/109 [==============================] - 21s 194ms/step - loss: 0.6196 - accuracy: 0.7835 - val_loss: 0.7630 - val_accuracy: 0.7297\n"
     ]
    }
   ],
   "source": [
    "history = cnn.fit(training_set,\n",
    "                    validation_data=testing_set,\n",
    "                    epochs=32)"
   ]
  },
  {
   "cell_type": "code",
   "execution_count": 33,
   "metadata": {},
   "outputs": [
    {
     "data": {
      "text/plain": [
       "<matplotlib.legend.Legend at 0x127e08460>"
      ]
     },
     "execution_count": 33,
     "metadata": {},
     "output_type": "execute_result"
    },
    {
     "data": {
      "image/png": "[encoded data removed]",
      "text/plain": [
       "<Figure size 432x288 with 1 Axes>"
      ]
     },
     "metadata": {
      "needs_background": "light"
     },
     "output_type": "display_data"
    }
   ],
   "source": [
    "import matplotlib.pyplot as plt\n",
    "plt.plot(history.history['accuracy'])\n",
    "plt.plot(history.history['val_accuracy'])\n",
    "plt.title('model accuracy')\n",
    "plt.ylabel('accuracy')\n",
    "plt.xlabel('epoch')\n",
    "plt.legend(['Train','Validation'],loc='upper left')"
   ]
  },
  {
   "cell_type": "code",
   "execution_count": 34,
   "metadata": {},
   "outputs": [
    {
     "data": {
      "text/plain": [
       "<matplotlib.legend.Legend at 0x127e7ddc0>"
      ]
     },
     "execution_count": 34,
     "metadata": {},
     "output_type": "execute_result"
    },
    {
     "data": {
      "image/png": "[encoded data removed]",
      "text/plain": [
       "<Figure size 432x288 with 1 Axes>"
      ]
     },
     "metadata": {
      "needs_background": "light"
     },
     "output_type": "display_data"
    }
   ],
   "source": [
    "plt.plot(history.history['loss'])\n",
    "plt.plot(history.history['val_loss'])\n",
    "plt.title('model loss')\n",
    "plt.ylabel('loss')\n",
    "plt.xlabel('epoch')\n",
    "plt.legend(['Train','Validation'],loc='upper left')"
   ]
  },
  {
   "cell_type": "code",
   "execution_count": null,
   "metadata": {},
   "outputs": [],
   "source": [
    "from keras.preprocessing import image\n",
    "test_image = image.load_img('prediction/daisy.jpeg',target_size=(64,64))\n",
    "test_image = image.img_to_array(test_image)\n",
    "test_image = np.expand_dims(test_image,axis=0)\n",
    "result = cnn.predict(test_image)\n",
    "training_set.class_indices"
   ]
  },
  {
   "cell_type": "code",
   "execution_count": null,
   "metadata": {},
   "outputs": [],
   "source": [
    "print(result)"
   ]
  },
  {
   "cell_type": "code",
   "execution_count": null,
   "metadata": {},
   "outputs": [],
   "source": [
    "MODEL_NAME = 'FlowerModel.h5'"
   ]
  },
  {
   "cell_type": "code",
   "execution_count": null,
   "metadata": {},
   "outputs": [],
   "source": [
    "cnn.save(MODEL_NAME)"
   ]
  },
  {
   "cell_type": "code",
   "execution_count": null,
   "metadata": {},
   "outputs": [],
   "source": [
    "cnn.summary()"
   ]
  },
  {
   "cell_type": "code",
   "execution_count": null,
   "metadata": {},
   "outputs": [],
   "source": [
    "TF_LITE_MODEL_NAME = 'FlowerModelV4.tflite'"
   ]
  },
  {
   "cell_type": "code",
   "execution_count": null,
   "metadata": {},
   "outputs": [],
   "source": [
    "model = tf.keras.models.load_model(MODEL_NAME)\n",
    "converter = tf.lite.TFLiteConverter.from_keras_model(model)\n",
    "converter.optimizations = [tf.lite.Optimize.OPTIMIZE_FOR_SIZE]"
   ]
  },
  {
   "cell_type": "code",
   "execution_count": null,
   "metadata": {},
   "outputs": [],
   "source": []
  },
  {
   "cell_type": "code",
   "execution_count": null,
   "metadata": {},
   "outputs": [],
   "source": [
    "tflite_model = converter.convert()"
   ]
  },
  {
   "cell_type": "code",
   "execution_count": null,
   "metadata": {},
   "outputs": [],
   "source": [
    "tfl_model_name = TF_LITE_MODEL_NAME\n",
    "open(tfl_model_name,'wb').write(tflite_model)"
   ]
  },
  {
   "cell_type": "code",
   "execution_count": null,
   "metadata": {},
   "outputs": [],
   "source": [
    "interpreter = tf.lite.Interpreter(model_path=TF_LITE_MODEL_NAME)\n",
    "interpreter.allocate_tensors()"
   ]
  },
  {
   "cell_type": "code",
   "execution_count": null,
   "metadata": {},
   "outputs": [],
   "source": [
    "input_index = interpreter.get_input_details()[0]['index']\n",
    "output_index = interpreter.get_output_details()[0]['index']"
   ]
  },
  {
   "cell_type": "code",
   "execution_count": null,
   "metadata": {},
   "outputs": [],
   "source": [
    "print(input_index)\n",
    "print(output_index)"
   ]
  },
  {
   "cell_type": "code",
   "execution_count": null,
   "metadata": {},
   "outputs": [],
   "source": [
    "import tensorboard"
   ]
  },
  {
   "cell_type": "code",
   "execution_count": null,
   "metadata": {},
   "outputs": [],
   "source": [
    "%tensorboard --logdir logs"
   ]
  },
  {
   "cell_type": "code",
   "execution_count": null,
   "metadata": {},
   "outputs": [],
   "source": [
    "yes"
   ]
  }
 ],
 "metadata": {
  "interpreter": {
   "hash": "949777d72b0d2535278d3dc13498b2535136f6dfe0678499012e853ee9abcab1"
  },
  "kernelspec": {
   "display_name": "Python 3.8.5 64-bit",
   "name": "python3"
  },
  "language_info": {
   "codemirror_mode": {
    "name": "ipython",
    "version": 3
   },
   "file_extension": ".py",
   "mimetype": "text/x-python",
   "name": "python",
   "nbconvert_exporter": "python",
   "pygments_lexer": "ipython3",
   "version": "3.8.5"
  }
 },
 "nbformat": 4,
 "nbformat_minor": 4
}
